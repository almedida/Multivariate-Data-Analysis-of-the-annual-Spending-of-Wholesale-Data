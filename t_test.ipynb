{
  "nbformat": 4,
  "nbformat_minor": 0,
  "metadata": {
    "colab": {
      "name": "t_test.ipynb",
      "provenance": [],
      "authorship_tag": "ABX9TyNJ+Bu54nY6bUNGufHUKpJr",
      "include_colab_link": true
    },
    "kernelspec": {
      "name": "ir",
      "display_name": "R"
    },
    "language_info": {
      "name": "R"
    }
  },
  "cells": [
    {
      "cell_type": "markdown",
      "metadata": {
        "id": "view-in-github",
        "colab_type": "text"
      },
      "source": [
        "<a href=\"https://colab.research.google.com/github/almedida/Multivariate-Data-Analysis-of-the-annual-Spending-of-Wholesale-Data/blob/main/t_test.ipynb\" target=\"_parent\"><img src=\"https://colab.research.google.com/assets/colab-badge.svg\" alt=\"Open In Colab\"/></a>"
      ]
    },
    {
      "cell_type": "code",
      "metadata": {
        "colab": {
          "base_uri": "https://localhost:8080/"
        },
        "id": "s2fJk8K3QVPl",
        "outputId": "030febdc-d1fb-4b8a-f1b7-0753c26d82f1"
      },
      "source": [
        "install.packages('pacman')\n",
        "\n",
        "library(pacman, devtools)\n",
        "\n",
        "p_load(\"tidyverse\", \"matrixTests\", \"gtools\")\n"
      ],
      "execution_count": 3,
      "outputs": [
        {
          "output_type": "stream",
          "name": "stderr",
          "text": [
            "Installing package into ‘/usr/local/lib/R/site-library’\n",
            "(as ‘lib’ is unspecified)\n",
            "\n",
            "Installing package into ‘/usr/local/lib/R/site-library’\n",
            "(as ‘lib’ is unspecified)\n",
            "\n",
            "also installing the dependency ‘matrixStats’\n",
            "\n",
            "\n",
            "\n",
            "matrixTests installed\n",
            "\n",
            "Installing package into ‘/usr/local/lib/R/site-library’\n",
            "(as ‘lib’ is unspecified)\n",
            "\n",
            "\n",
            "gtools installed\n",
            "\n"
          ]
        }
      ]
    },
    {
      "cell_type": "code",
      "metadata": {
        "id": "ildnWqiRQTvV"
      },
      "source": [
        "\n",
        "#load dataset on data_df\n",
        "kidneyCBAExpr = read.table(\"kidneyCBA.csv\", header= TRUE, sep=\",\")\n",
        "kidneyTechExpr = read.table(\"kidneyTech.csv\", header= TRUE, sep=\",\")\n"
      ],
      "execution_count": 4,
      "outputs": []
    },
    {
      "cell_type": "code",
      "metadata": {
        "id": "5e_h0ARK0vVU"
      },
      "source": [
        "#load dataset on data_df\n",
        "liverCBAExpr = read.table(\"liverCBA.csv\", header= TRUE, sep=\",\")\n",
        "liverTechExpr = read.table(\"liverTech.csv\", header= TRUE, sep=\",\")"
      ],
      "execution_count": 5,
      "outputs": []
    },
    {
      "cell_type": "code",
      "metadata": {
        "id": "PUPOILxkVg-w"
      },
      "source": [
        "kidneyCBA_Unlogged <- data.matrix(as.data.frame(as.matrix(2^(kidneyCBAExpr))), rownames.force = NA)\n",
        "\n",
        "kidneyTech_Unlogged <- data.matrix(as.data.frame(as.matrix(2^(kidneyTechExpr))), rownames.force = NA)"
      ],
      "execution_count": 18,
      "outputs": []
    },
    {
      "cell_type": "code",
      "metadata": {
        "id": "JtzDasaQ1Zr9"
      },
      "source": [
        "liverCBA_Unlogged <- data.matrix(as.data.frame(as.matrix(2^(liverCBAExpr))), rownames.force = NA)\n",
        "\n",
        "liverTech_Unlogged <- data.matrix(as.data.frame(as.matrix(2^(liverTechExpr))), rownames.force = NA)"
      ],
      "execution_count": 21,
      "outputs": []
    },
    {
      "cell_type": "code",
      "metadata": {
        "colab": {
          "base_uri": "https://localhost:8080/",
          "height": 363
        },
        "id": "zcN866Y-V1Yq",
        "outputId": "49361837-ca14-44ae-f2eb-569ee1012a09"
      },
      "source": [
        "head(liverCBA_df, 5)\n",
        "head(liverCBA_Unlogged, 3)\n",
        "\n",
        "#dim(liverCBA_df)\n",
        "\n",
        "#head(liverTech_df, 5)\n",
        "\n",
        "#dim(liver_df)"
      ],
      "execution_count": 22,
      "outputs": [
        {
          "output_type": "display_data",
          "data": {
            "text/plain": [
              "     CBA_Liv_Diet_A_d1 CBA_Liv_Diet_A_d2 CBA_Liv_Diet_A_d3 CBA_Liv_Diet_A_d4\n",
              "[1,] 12.027946         12.258315         12.053265         12.413971        \n",
              "[2,] 11.004045         10.918036         11.008520         11.083123        \n",
              "[3,]  5.338915          5.410364          5.440630          5.745109        \n",
              "[4,]  9.831163          9.721065          9.679919          9.736403        \n",
              "[5,]  7.395784          7.707718          7.111960          7.412790        \n",
              "     CBA_Liv_Diet_A_d5 CBA_Liv_Diet_A_d6\n",
              "[1,] 11.808022         12.325518        \n",
              "[2,] 11.279887         11.393132        \n",
              "[3,]  6.001170          6.183407        \n",
              "[4,] 10.028636         10.034891        \n",
              "[5,]  6.909277          6.892930        "
            ],
            "text/latex": "A matrix: 5 × 6 of type dbl\n\\begin{tabular}{llllll}\n CBA\\_Liv\\_Diet\\_A\\_d1 & CBA\\_Liv\\_Diet\\_A\\_d2 & CBA\\_Liv\\_Diet\\_A\\_d3 & CBA\\_Liv\\_Diet\\_A\\_d4 & CBA\\_Liv\\_Diet\\_A\\_d5 & CBA\\_Liv\\_Diet\\_A\\_d6\\\\\n\\hline\n\t 12.027946 & 12.258315 & 12.053265 & 12.413971 & 11.808022 & 12.325518\\\\\n\t 11.004045 & 10.918036 & 11.008520 & 11.083123 & 11.279887 & 11.393132\\\\\n\t  5.338915 &  5.410364 &  5.440630 &  5.745109 &  6.001170 &  6.183407\\\\\n\t  9.831163 &  9.721065 &  9.679919 &  9.736403 & 10.028636 & 10.034891\\\\\n\t  7.395784 &  7.707718 &  7.111960 &  7.412790 &  6.909277 &  6.892930\\\\\n\\end{tabular}\n",
            "text/markdown": "\nA matrix: 5 × 6 of type dbl\n\n| CBA_Liv_Diet_A_d1 | CBA_Liv_Diet_A_d2 | CBA_Liv_Diet_A_d3 | CBA_Liv_Diet_A_d4 | CBA_Liv_Diet_A_d5 | CBA_Liv_Diet_A_d6 |\n|---|---|---|---|---|---|\n| 12.027946 | 12.258315 | 12.053265 | 12.413971 | 11.808022 | 12.325518 |\n| 11.004045 | 10.918036 | 11.008520 | 11.083123 | 11.279887 | 11.393132 |\n|  5.338915 |  5.410364 |  5.440630 |  5.745109 |  6.001170 |  6.183407 |\n|  9.831163 |  9.721065 |  9.679919 |  9.736403 | 10.028636 | 10.034891 |\n|  7.395784 |  7.707718 |  7.111960 |  7.412790 |  6.909277 |  6.892930 |\n\n",
            "text/html": [
              "<table class=\"dataframe\">\n",
              "<caption>A matrix: 5 × 6 of type dbl</caption>\n",
              "<thead>\n",
              "\t<tr><th scope=col>CBA_Liv_Diet_A_d1</th><th scope=col>CBA_Liv_Diet_A_d2</th><th scope=col>CBA_Liv_Diet_A_d3</th><th scope=col>CBA_Liv_Diet_A_d4</th><th scope=col>CBA_Liv_Diet_A_d5</th><th scope=col>CBA_Liv_Diet_A_d6</th></tr>\n",
              "</thead>\n",
              "<tbody>\n",
              "\t<tr><td>12.027946</td><td>12.258315</td><td>12.053265</td><td>12.413971</td><td>11.808022</td><td>12.325518</td></tr>\n",
              "\t<tr><td>11.004045</td><td>10.918036</td><td>11.008520</td><td>11.083123</td><td>11.279887</td><td>11.393132</td></tr>\n",
              "\t<tr><td> 5.338915</td><td> 5.410364</td><td> 5.440630</td><td> 5.745109</td><td> 6.001170</td><td> 6.183407</td></tr>\n",
              "\t<tr><td> 9.831163</td><td> 9.721065</td><td> 9.679919</td><td> 9.736403</td><td>10.028636</td><td>10.034891</td></tr>\n",
              "\t<tr><td> 7.395784</td><td> 7.707718</td><td> 7.111960</td><td> 7.412790</td><td> 6.909277</td><td> 6.892930</td></tr>\n",
              "</tbody>\n",
              "</table>\n"
            ]
          },
          "metadata": {}
        },
        {
          "output_type": "display_data",
          "data": {
            "text/plain": [
              "     CBA_Liv_Diet_A_d1 CBA_Liv_Diet_A_d2 CBA_Liv_Diet_A_d3 CBA_Liv_Diet_A_d4\n",
              "[1,] 4176.11626        4899.14848        4250.0531         5457.29721       \n",
              "[2,] 2053.74983        1934.89065        2060.1310         2169.46374       \n",
              "[3,]   40.47375          42.52868          43.4303           53.63524       \n",
              "     CBA_Liv_Diet_A_d5 CBA_Liv_Diet_A_d6\n",
              "[1,] 3585.65846        5132.75574       \n",
              "[2,] 2486.47688        2689.51729       \n",
              "[3,]   64.05193          72.67602       "
            ],
            "text/latex": "A matrix: 3 × 6 of type dbl\n\\begin{tabular}{llllll}\n CBA\\_Liv\\_Diet\\_A\\_d1 & CBA\\_Liv\\_Diet\\_A\\_d2 & CBA\\_Liv\\_Diet\\_A\\_d3 & CBA\\_Liv\\_Diet\\_A\\_d4 & CBA\\_Liv\\_Diet\\_A\\_d5 & CBA\\_Liv\\_Diet\\_A\\_d6\\\\\n\\hline\n\t 4176.11626 & 4899.14848 & 4250.0531 & 5457.29721 & 3585.65846 & 5132.75574\\\\\n\t 2053.74983 & 1934.89065 & 2060.1310 & 2169.46374 & 2486.47688 & 2689.51729\\\\\n\t   40.47375 &   42.52868 &   43.4303 &   53.63524 &   64.05193 &   72.67602\\\\\n\\end{tabular}\n",
            "text/markdown": "\nA matrix: 3 × 6 of type dbl\n\n| CBA_Liv_Diet_A_d1 | CBA_Liv_Diet_A_d2 | CBA_Liv_Diet_A_d3 | CBA_Liv_Diet_A_d4 | CBA_Liv_Diet_A_d5 | CBA_Liv_Diet_A_d6 |\n|---|---|---|---|---|---|\n| 4176.11626 | 4899.14848 | 4250.0531 | 5457.29721 | 3585.65846 | 5132.75574 |\n| 2053.74983 | 1934.89065 | 2060.1310 | 2169.46374 | 2486.47688 | 2689.51729 |\n|   40.47375 |   42.52868 |   43.4303 |   53.63524 |   64.05193 |   72.67602 |\n\n",
            "text/html": [
              "<table class=\"dataframe\">\n",
              "<caption>A matrix: 3 × 6 of type dbl</caption>\n",
              "<thead>\n",
              "\t<tr><th scope=col>CBA_Liv_Diet_A_d1</th><th scope=col>CBA_Liv_Diet_A_d2</th><th scope=col>CBA_Liv_Diet_A_d3</th><th scope=col>CBA_Liv_Diet_A_d4</th><th scope=col>CBA_Liv_Diet_A_d5</th><th scope=col>CBA_Liv_Diet_A_d6</th></tr>\n",
              "</thead>\n",
              "<tbody>\n",
              "\t<tr><td>4176.11626</td><td>4899.14848</td><td>4250.0531</td><td>5457.29721</td><td>3585.65846</td><td>5132.75574</td></tr>\n",
              "\t<tr><td>2053.74983</td><td>1934.89065</td><td>2060.1310</td><td>2169.46374</td><td>2486.47688</td><td>2689.51729</td></tr>\n",
              "\t<tr><td>  40.47375</td><td>  42.52868</td><td>  43.4303</td><td>  53.63524</td><td>  64.05193</td><td>  72.67602</td></tr>\n",
              "</tbody>\n",
              "</table>\n"
            ]
          },
          "metadata": {}
        }
      ]
    },
    {
      "cell_type": "code",
      "metadata": {
        "id": "AHJC0Vom19gU"
      },
      "source": [
        " #liver_df <- data.matrix(liver_df, rownames.force = NA)\n",
        " \n",
        " kidney_ttest <- row_t_equalvar(kidneyCBA_df, kidneyTech_df, alternative = \"two.sided\", mu = 0, conf.level = 0.95)\n",
        "\n",
        " liver_ttest <-  row_t_equalvar(liverCBA_df, liverTech_df, alternative = \"two.sided\", mu = 0, conf.level = 0.95)"
      ],
      "execution_count": 8,
      "outputs": []
    },
    {
      "cell_type": "code",
      "metadata": {
        "id": "6dASP7iROokO"
      },
      "source": [
        "kidney_test <- row_t_welch(kidneyCBA_df, kidneyTech_df, alternative = \"two.sided\", mu = 0, conf.level = 0.95)\n",
        "\n",
        "liver_test <- row_t_welch(liverCBA_df, liverTech_df, alternative = \"two.sided\", mu = 0, conf.level = 0.95)\n",
        "\n"
      ],
      "execution_count": 11,
      "outputs": []
    },
    {
      "cell_type": "code",
      "metadata": {
        "id": "mu4CQAmUQ6iQ"
      },
      "source": [
        "write.csv(kidney_test, \"kidney_ttestNew.csv\")\n",
        "\n",
        "write.csv(liver_test, \"liver_ttestNew.csv\")"
      ],
      "execution_count": 12,
      "outputs": []
    },
    {
      "cell_type": "code",
      "metadata": {
        "id": "4APwOqCLPNBP"
      },
      "source": [
        "kidney_test"
      ],
      "execution_count": null,
      "outputs": []
    },
    {
      "cell_type": "code",
      "metadata": {
        "id": "d_i39jfNl-7R"
      },
      "source": [
        "#liver_ttest\n",
        "\n",
        "write.csv(kidney_ttest, \"kidney_ttest.csv\")\n",
        "\n",
        "#write.csv(liver_ttest, \"liver_ttest.csv\")"
      ],
      "execution_count": null,
      "outputs": []
    },
    {
      "cell_type": "code",
      "metadata": {
        "id": "4zeVHlsuXHAq"
      },
      "source": [
        "#tstat = read.table(\"tstat.csv\", header= TRUE, sep=\",\")\n",
        "#fchange = as.data.frame(as.matrix(tstat))"
      ],
      "execution_count": 14,
      "outputs": []
    },
    {
      "cell_type": "code",
      "metadata": {
        "id": "294OCHc7Xws-"
      },
      "source": [
        "#kidney_tstat <- as.matrix(tstat[,1])\n",
        "#liver_tstat <- as.matrix(tstat[,2])"
      ],
      "execution_count": 17,
      "outputs": []
    },
    {
      "cell_type": "code",
      "metadata": {
        "colab": {
          "base_uri": "https://localhost:8080/",
          "height": 34
        },
        "id": "CdemqLSPVtFu",
        "outputId": "ca4793a5-360c-418f-91f6-fdfa7938433a"
      },
      "source": [
        "mean_liverCBA <- apply(liverCBA_Unlogged, 1, mean)\n",
        "head(mean_liverCBA)"
      ],
      "execution_count": 30,
      "outputs": [
        {
          "output_type": "display_data",
          "data": {
            "text/plain": [
              "[1] 4583.50488 2232.37156   52.79932  920.28912  154.20489 6491.97240"
            ],
            "text/latex": "\\begin{enumerate*}\n\\item 4583.50487687524\n\\item 2232.37155770428\n\\item 52.79931921374\n\\item 920.289116290205\n\\item 154.204887645998\n\\item 6491.97239633032\n\\end{enumerate*}\n",
            "text/markdown": "1. 4583.50487687524\n2. 2232.37155770428\n3. 52.79931921374\n4. 920.289116290205\n5. 154.204887645998\n6. 6491.97239633032\n\n\n",
            "text/html": [
              "<style>\n",
              ".list-inline {list-style: none; margin:0; padding: 0}\n",
              ".list-inline>li {display: inline-block}\n",
              ".list-inline>li:not(:last-child)::after {content: \"\\00b7\"; padding: 0 .5ex}\n",
              "</style>\n",
              "<ol class=list-inline><li>4583.50487687524</li><li>2232.37155770428</li><li>52.79931921374</li><li>920.289116290205</li><li>154.204887645998</li><li>6491.97239633032</li></ol>\n"
            ]
          },
          "metadata": {}
        }
      ]
    },
    {
      "cell_type": "code",
      "metadata": {
        "colab": {
          "base_uri": "https://localhost:8080/",
          "height": 34
        },
        "id": "U_XfjpXFYfBU",
        "outputId": "6e054841-0940-4ee2-d571-96bd128b65b3"
      },
      "source": [
        "mean_kidneyCBA <- apply(kidneyCBA_Unlogged, 1, mean)\n",
        "head(mean_kidneyCBA)"
      ],
      "execution_count": 37,
      "outputs": [
        {
          "output_type": "display_data",
          "data": {
            "text/plain": [
              "[1] 3539.04313 4449.53851   40.11794  557.67676  119.36555 4942.63633"
            ],
            "text/latex": "\\begin{enumerate*}\n\\item 3539.04313422794\n\\item 4449.53850574963\n\\item 40.117939622355\n\\item 557.676764844293\n\\item 119.365550317017\n\\item 4942.63632942998\n\\end{enumerate*}\n",
            "text/markdown": "1. 3539.04313422794\n2. 4449.53850574963\n3. 40.117939622355\n4. 557.676764844293\n5. 119.365550317017\n6. 4942.63632942998\n\n\n",
            "text/html": [
              "<style>\n",
              ".list-inline {list-style: none; margin:0; padding: 0}\n",
              ".list-inline>li {display: inline-block}\n",
              ".list-inline>li:not(:last-child)::after {content: \"\\00b7\"; padding: 0 .5ex}\n",
              "</style>\n",
              "<ol class=list-inline><li>3539.04313422794</li><li>4449.53850574963</li><li>40.117939622355</li><li>557.676764844293</li><li>119.365550317017</li><li>4942.63632942998</li></ol>\n"
            ]
          },
          "metadata": {}
        }
      ]
    },
    {
      "cell_type": "code",
      "metadata": {
        "colab": {
          "base_uri": "https://localhost:8080/",
          "height": 34
        },
        "id": "rDVByfyhWoLR",
        "outputId": "febc8ec9-9a7e-4d5e-b7d2-0f203a8d8381"
      },
      "source": [
        "mean_kidneyTech <- apply(liverTech_Unlogged, 1, mean)\n",
        "head(mean_kidneyTech)"
      ],
      "execution_count": 38,
      "outputs": [
        {
          "output_type": "display_data",
          "data": {
            "text/plain": [
              "[1] 4679.89052 2015.99902   39.46053  716.91086   89.04233 3272.97935"
            ],
            "text/latex": "\\begin{enumerate*}\n\\item 4679.89052367647\n\\item 2015.99902339052\n\\item 39.4605338973828\n\\item 716.910863412696\n\\item 89.0423286165764\n\\item 3272.97934984919\n\\end{enumerate*}\n",
            "text/markdown": "1. 4679.89052367647\n2. 2015.99902339052\n3. 39.4605338973828\n4. 716.910863412696\n5. 89.0423286165764\n6. 3272.97934984919\n\n\n",
            "text/html": [
              "<style>\n",
              ".list-inline {list-style: none; margin:0; padding: 0}\n",
              ".list-inline>li {display: inline-block}\n",
              ".list-inline>li:not(:last-child)::after {content: \"\\00b7\"; padding: 0 .5ex}\n",
              "</style>\n",
              "<ol class=list-inline><li>4679.89052367647</li><li>2015.99902339052</li><li>39.4605338973828</li><li>716.910863412696</li><li>89.0423286165764</li><li>3272.97934984919</li></ol>\n"
            ]
          },
          "metadata": {}
        }
      ]
    },
    {
      "cell_type": "code",
      "metadata": {
        "id": "CmuHKpGbYlXi"
      },
      "source": [
        "mean_liverCBA <- apply(liverCBA_Unlogged, 1, mean)"
      ],
      "execution_count": null,
      "outputs": []
    },
    {
      "cell_type": "code",
      "metadata": {
        "colab": {
          "base_uri": "https://localhost:8080/",
          "height": 51
        },
        "id": "Q8XAs8q8Zpqo",
        "outputId": "d94e8339-c9d1-4d73-9cea-c1746b4afd43"
      },
      "source": [
        "f <- foldchange(mean_kidneyCBA , mean_kidneyTech)\n",
        "head(f)\n",
        "abs_f <- abs(f)\n",
        "head(abs_f)\n",
        "\n",
        "\n",
        "#cbind(kidneyCBA_df, kidneyTech_df, f)\n",
        "\n",
        "write.csv(abs_f, \"f_changeKidneyNew.csv\")"
      ],
      "execution_count": 39,
      "outputs": [
        {
          "output_type": "display_data",
          "data": {
            "text/plain": [
              "[1] -1.322360  2.207113  1.016660 -1.285531  1.340548  1.510134"
            ],
            "text/latex": "\\begin{enumerate*}\n\\item -1.32236040821735\n\\item 2.2071134232329\n\\item 1.01665982844231\n\\item -1.28553116896104\n\\item 1.34054839054148\n\\item 1.51013367366883\n\\end{enumerate*}\n",
            "text/markdown": "1. -1.32236040821735\n2. 2.2071134232329\n3. 1.01665982844231\n4. -1.28553116896104\n5. 1.34054839054148\n6. 1.51013367366883\n\n\n",
            "text/html": [
              "<style>\n",
              ".list-inline {list-style: none; margin:0; padding: 0}\n",
              ".list-inline>li {display: inline-block}\n",
              ".list-inline>li:not(:last-child)::after {content: \"\\00b7\"; padding: 0 .5ex}\n",
              "</style>\n",
              "<ol class=list-inline><li>-1.32236040821735</li><li>2.2071134232329</li><li>1.01665982844231</li><li>-1.28553116896104</li><li>1.34054839054148</li><li>1.51013367366883</li></ol>\n"
            ]
          },
          "metadata": {}
        },
        {
          "output_type": "display_data",
          "data": {
            "text/plain": [
              "[1] 1.322360 2.207113 1.016660 1.285531 1.340548 1.510134"
            ],
            "text/latex": "\\begin{enumerate*}\n\\item 1.32236040821735\n\\item 2.2071134232329\n\\item 1.01665982844231\n\\item 1.28553116896104\n\\item 1.34054839054148\n\\item 1.51013367366883\n\\end{enumerate*}\n",
            "text/markdown": "1. 1.32236040821735\n2. 2.2071134232329\n3. 1.01665982844231\n4. 1.28553116896104\n5. 1.34054839054148\n6. 1.51013367366883\n\n\n",
            "text/html": [
              "<style>\n",
              ".list-inline {list-style: none; margin:0; padding: 0}\n",
              ".list-inline>li {display: inline-block}\n",
              ".list-inline>li:not(:last-child)::after {content: \"\\00b7\"; padding: 0 .5ex}\n",
              "</style>\n",
              "<ol class=list-inline><li>1.32236040821735</li><li>2.2071134232329</li><li>1.01665982844231</li><li>1.28553116896104</li><li>1.34054839054148</li><li>1.51013367366883</li></ol>\n"
            ]
          },
          "metadata": {}
        }
      ]
    }
  ]
}